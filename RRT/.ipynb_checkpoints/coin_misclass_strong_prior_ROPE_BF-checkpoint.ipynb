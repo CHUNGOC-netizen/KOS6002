{
 "cells": [
  {
   "cell_type": "markdown",
   "id": "a4eac7bb",
   "metadata": {},
   "source": [
    "#### Think Bayes 2, Ch. 4\n",
    "Suppose you want to test whether a coin is fair, but you don’t want to spin it hundreds of times. So you make a machine that spins the coin automatically and uses computer vision to determine the outcome.\n",
    "\n",
    "However, you discover that the machine is not always accurate. Specifically, suppose the probability is y=0.2 that an actual heads is reported as tails, or actual tails reported as heads.\n",
    "\n",
    "If we spin a coin 250 times and the machine reports 140 heads, what is the posterior distribution of x? What happens as you vary the value of y?"
   ]
  },
  {
   "cell_type": "markdown",
   "id": "b918979c",
   "metadata": {},
   "source": [
    "\n",
    "# Coin Fairness with Misclassification: Strong Prior, ROPE, and Bayes Factors\n",
    "\n",
    "We test whether a coin is fair when the **reporting machine is noisy** with a symmetric misclassification rate $y$:\n",
    "- If the true face is Head, the machine reports Tail with prob $y$.\n",
    "- If the true face is Tail, the machine reports Head with prob $y$.\n",
    "\n",
    "Let $\\theta = \\Pr(\\text{Head})$ be the **true** probability of Head. The probability the machine **reports** Head is\n",
    "$$\n",
    "q \\;=\\; y + (1 - 2y)\\,\\theta.\n",
    "$$\n",
    "Given $r$ reported heads out of $N$ trials, \n",
    "$$\n",
    "    r \\sim \\mathrm{Binomial}(N, q).\n",
    "$$\n",
    "\n",
    "\n",
    "**This notebook uses a strong prior** \n",
    "$$\n",
    "\\theta\\sim\\mathrm{Beta}(10,10)\n",
    "$$ \n",
    "misclassification rate $y=0.4$, and data $N=250, r=140$. We compute the posterior of $\\theta$, Bayes factors for fairness, and ROPE-based decisions.\n"
   ]
  },
  {
   "cell_type": "markdown",
   "id": "80091777",
   "metadata": {},
   "source": [
    "\n",
    "## Concepts used in this notebook\n",
    "\n",
    "### ROPE — Region Of Practical Equivalence\n",
    "**Goal:** Decide if $\\theta$ is *practically indistinguishable* from a target $\\theta_0$ (here, fairness $\\theta_0=0.5$).  \n",
    "Pick a tolerance interval (the ROPE), e.g. $[0.48, 0.52]$ for $\\pm 0.02$ or $[0.45, 0.55]$ for $\\pm 0.05$.  \n",
    "From posterior draws of $\\theta$, compute:\n",
    "- $P(\\theta \\in \\text{ROPE})$, $P(\\theta<\\text{low})$, $P(\\theta>\\text{high})$.\n",
    "\n",
    "**Heuristic decisions (Kruschke):**\n",
    "- If $P(\\theta\\in\\text{ROPE})>0.95$ ⇒ accept practical equivalence.\n",
    "- If $P(\\theta\\in\\text{ROPE})<0.05$ ⇒ reject practical equivalence (practically different).\n",
    "- Otherwise ⇒ inconclusive.\n",
    "\n",
    "ROPE addresses *practical* (not merely point-null) equivalence. Set the width based on domain tolerance.\n",
    "\n",
    "### Bayes Factor (BF)\n",
    "Comparative evidence for models/hypotheses:\n",
    "$$\n",
    "\\mathrm{BF}_{10}=\\frac{p(\\text{data}\\mid H_1)}{p(\\text{data}\\mid H_0)}, \\quad \\mathrm{BF}_{01}=\\frac{1}{\\mathrm{BF}_{10}}.\n",
    "$$\n",
    "Here:\n",
    "- $H_0$: $\\theta=0.5$ (fair); then $q=0.5$.\n",
    "- $H_1$: $\\theta\\sim\\mathrm{Beta}(10,10)$.\n",
    "\n",
    "**Interpretation (rough guide):** 1–3 anecdotal, 3–10 moderate, 10–30 strong, >30 very strong — but always check prior sensitivity.\n"
   ]
  },
  {
   "cell_type": "markdown",
   "id": "d9752e50",
   "metadata": {},
   "source": [
    "## Stan model"
   ]
  },
  {
   "cell_type": "code",
   "execution_count": 9,
   "id": "f12d07de",
   "metadata": {},
   "outputs": [],
   "source": [
    "#'\\n// coin_misclass.stan\\ndata {\\n  int<lower=0> N;              // number of flips\\n  int<lower=0, upper=N> r;     // reported heads\\n  real<lower=0, upper=0.5> y;  // symmetric misclassification prob\\n  real<lower=0> alpha;         // Beta prior on theta: alpha\\n  real<lower=0> beta;          // Beta prior on theta: beta\\n}\\nparameters {\\n  real<lower=0, upper=1> theta; // true head probability\\n}\\ntransformed parameters {\\n  real<lower=0, upper=1> q;\\n  q = y + (1 - 2 * y) * theta;  // reported-head probability\\n}\\nmodel {\\n  theta ~ beta(alpha, beta);\\n  r ~ binomial(N, q);\\n}\\ngenerated quantities {\\n  int r_rep = binomial_rng(N, q);                 // posterior predictive\\n  real<lower=0, upper=1> theta_via_q = (q - y) / (1 - 2 * y); // identity, for clarity\\n}\\n'\n",
    "\n",
    "stan_code = \\\n",
    "\"\"\"\n",
    "data {\n",
    "  int<lower=0> N;\n",
    "  int<lower=0, upper=N> r;\n",
    "  real<lower=0, upper=0.5> y;  // set to 0.4\n",
    "  real<lower=0> alpha;\n",
    "  real<lower=0> beta;\n",
    "}\n",
    "parameters { real<lower=0, upper=1> theta; }\n",
    "transformed parameters {\n",
    "  real<lower=0, upper=1> q;\n",
    "  q = y + (1 - 2*y) * theta;\n",
    "}\n",
    "model {\n",
    "  theta ~ beta(alpha, beta);\n",
    "  r ~ binomial(N, q);\n",
    "}\n",
    "generated quantities {\n",
    "  int r_rep = binomial_rng(N, q);\n",
    "  real<lower=0, upper=1> theta_via_q = (q - y) / (1 - 2*y);\n",
    "}\n",
    "\"\"\""
   ]
  },
  {
   "cell_type": "code",
   "execution_count": 11,
   "id": "99867635",
   "metadata": {},
   "outputs": [
    {
     "name": "stdout",
     "output_type": "stream",
     "text": [
      "Wrote /Users/yndk/Desktop/KOS6002/RRT/coin_misclass.stan\n"
     ]
    }
   ],
   "source": [
    "\n",
    "from pathlib import Path\n",
    "stan_path = Path(\"coin_misclass.stan\")\n",
    "stan_path.write_text(stan_code)\n",
    "print(\"Wrote\", stan_path.resolve())\n"
   ]
  },
  {
   "cell_type": "markdown",
   "id": "967c3b29",
   "metadata": {},
   "source": [
    "\n",
    "## Setup (one-time)\n",
    "If needed, install CmdStan and packages:\n",
    "```bash\n",
    "pip install cmdstanpy arviz matplotlib\n",
    "python -c \"from cmdstanpy import install_cmdstan; install_cmdstan()\"\n",
    "```\n"
   ]
  },
  {
   "cell_type": "markdown",
   "id": "890a83d1",
   "metadata": {},
   "source": [
    "## Fit with CmdStanPy (strong prior α=10, β=10, y=0.4)"
   ]
  },
  {
   "cell_type": "code",
   "execution_count": 12,
   "id": "aaa5cdc8",
   "metadata": {},
   "outputs": [
    {
     "name": "stderr",
     "output_type": "stream",
     "text": [
      "00:32:01 - cmdstanpy - INFO - compiling stan file /Users/yndk/Desktop/KOS6002/RRT/coin_misclass.stan to exe file /Users/yndk/Desktop/KOS6002/RRT/coin_misclass\n",
      "00:32:04 - cmdstanpy - INFO - compiled model executable: /Users/yndk/Desktop/KOS6002/RRT/coin_misclass\n",
      "00:32:05 - cmdstanpy - INFO - CmdStan start processing\n"
     ]
    },
    {
     "data": {
      "application/vnd.jupyter.widget-view+json": {
       "model_id": "359da0f0edf74b829384adfedadf7c92",
       "version_major": 2,
       "version_minor": 0
      },
      "text/plain": [
       "chain 1 |          | 00:00 Status"
      ]
     },
     "metadata": {},
     "output_type": "display_data"
    },
    {
     "data": {
      "application/vnd.jupyter.widget-view+json": {
       "model_id": "45f65085b91846529d372308b13e032c",
       "version_major": 2,
       "version_minor": 0
      },
      "text/plain": [
       "chain 2 |          | 00:00 Status"
      ]
     },
     "metadata": {},
     "output_type": "display_data"
    },
    {
     "data": {
      "application/vnd.jupyter.widget-view+json": {
       "model_id": "0e3fc8baba8c4698a882638cfae5eb7d",
       "version_major": 2,
       "version_minor": 0
      },
      "text/plain": [
       "chain 3 |          | 00:00 Status"
      ]
     },
     "metadata": {},
     "output_type": "display_data"
    },
    {
     "data": {
      "application/vnd.jupyter.widget-view+json": {
       "model_id": "4bb0b9a0b66b43ce823666145a2861f1",
       "version_major": 2,
       "version_minor": 0
      },
      "text/plain": [
       "chain 4 |          | 00:00 Status"
      ]
     },
     "metadata": {},
     "output_type": "display_data"
    },
    {
     "name": "stdout",
     "output_type": "stream",
     "text": [
      "                                                                                                                                                                                                                                                                                                                                "
     ]
    },
    {
     "name": "stderr",
     "output_type": "stream",
     "text": [
      "00:32:05 - cmdstanpy - INFO - CmdStan done processing.\n"
     ]
    },
    {
     "name": "stdout",
     "output_type": "stream",
     "text": [
      "\n",
      "Checking sampler transitions treedepth.\n",
      "Treedepth satisfactory for all transitions.\n",
      "\n",
      "Checking sampler transitions for divergences.\n",
      "No divergent transitions found.\n",
      "\n",
      "Checking E-BFMI - sampler transitions HMC potential energy.\n",
      "E-BFMI satisfactory.\n",
      "\n",
      "Rank-normalized split effective sample size satisfactory for all parameters.\n",
      "\n",
      "Rank-normalized split R-hat values satisfactory for all parameters.\n",
      "\n",
      "Processing complete, no problems detected.\n",
      "\n"
     ]
    },
    {
     "data": {
      "text/html": [
       "<div>\n",
       "<style scoped>\n",
       "    .dataframe tbody tr th:only-of-type {\n",
       "        vertical-align: middle;\n",
       "    }\n",
       "\n",
       "    .dataframe tbody tr th {\n",
       "        vertical-align: top;\n",
       "    }\n",
       "\n",
       "    .dataframe thead th {\n",
       "        text-align: right;\n",
       "    }\n",
       "</style>\n",
       "<table border=\"1\" class=\"dataframe\">\n",
       "  <thead>\n",
       "    <tr style=\"text-align: right;\">\n",
       "      <th></th>\n",
       "      <th>mean</th>\n",
       "      <th>sd</th>\n",
       "      <th>hdi_3%</th>\n",
       "      <th>hdi_97%</th>\n",
       "      <th>mcse_mean</th>\n",
       "      <th>mcse_sd</th>\n",
       "      <th>ess_bulk</th>\n",
       "      <th>ess_tail</th>\n",
       "      <th>r_hat</th>\n",
       "    </tr>\n",
       "  </thead>\n",
       "  <tbody>\n",
       "    <tr>\n",
       "      <th>theta</th>\n",
       "      <td>0.7579</td>\n",
       "      <td>0.1417</td>\n",
       "      <td>0.5176</td>\n",
       "      <td>0.9996</td>\n",
       "      <td>0.0045</td>\n",
       "      <td>0.0034</td>\n",
       "      <td>844.8122</td>\n",
       "      <td>539.5436</td>\n",
       "      <td>1.0039</td>\n",
       "    </tr>\n",
       "    <tr>\n",
       "      <th>q</th>\n",
       "      <td>0.5516</td>\n",
       "      <td>0.0283</td>\n",
       "      <td>0.5035</td>\n",
       "      <td>0.5999</td>\n",
       "      <td>0.0009</td>\n",
       "      <td>0.0007</td>\n",
       "      <td>844.8122</td>\n",
       "      <td>539.5436</td>\n",
       "      <td>1.0039</td>\n",
       "    </tr>\n",
       "  </tbody>\n",
       "</table>\n",
       "</div>"
      ],
      "text/plain": [
       "         mean      sd  hdi_3%  hdi_97%  mcse_mean  mcse_sd  ess_bulk  \\\n",
       "theta  0.7579  0.1417  0.5176   0.9996     0.0045   0.0034  844.8122   \n",
       "q      0.5516  0.0283  0.5035   0.5999     0.0009   0.0007  844.8122   \n",
       "\n",
       "       ess_tail   r_hat  \n",
       "theta  539.5436  1.0039  \n",
       "q      539.5436  1.0039  "
      ]
     },
     "execution_count": 12,
     "metadata": {},
     "output_type": "execute_result"
    }
   ],
   "source": [
    "\n",
    "from cmdstanpy import CmdStanModel\n",
    "import arviz as az\n",
    "import numpy as np\n",
    "import pandas as pd\n",
    "import matplotlib.pyplot as plt\n",
    "\n",
    "# Data & prior\n",
    "N, r = 250, 140\n",
    "y = 0.4\n",
    "alpha, beta = 1.0, 1.0\n",
    "\n",
    "model = CmdStanModel(stan_file=\"coin_misclass.stan\")\n",
    "fit = model.sample(\n",
    "    data=dict(N=N, r=r, y=y, alpha=alpha, beta=beta),\n",
    "    seed=2025, chains=4, parallel_chains=4,\n",
    "    iter_warmup=1000, iter_sampling=1000, adapt_delta=0.95,\n",
    ")\n",
    "print(fit.diagnose())\n",
    "\n",
    "draws = fit.draws_pd()\n",
    "idata = az.from_cmdstanpy(posterior=fit)\n",
    "az.summary(idata, var_names=[\"theta\", \"q\"], round_to=4)\n"
   ]
  },
  {
   "cell_type": "markdown",
   "id": "63560afa",
   "metadata": {},
   "source": [
    "## Posterior and Posterior Predictive (discrete PMF)"
   ]
  },
  {
   "cell_type": "code",
   "execution_count": null,
   "id": "b8133095",
   "metadata": {},
   "outputs": [
    {
     "data": {
      "image/png": "[encoded data removed]",
      "text/plain": [
       "<Figure size 640x480 with 1 Axes>"
      ]
     },
     "metadata": {},
     "output_type": "display_data"
    },
    {
     "data": {
      "image/png": "[encoded data removed]",
      "text/plain": [
       "<Figure size 640x480 with 1 Axes>"
      ]
     },
     "metadata": {},
     "output_type": "display_data"
    }
   ],
   "source": [
    "\n",
    "theta = draws[\"theta\"].to_numpy()\n",
    "q = draws[\"q\"].to_numpy()\n",
    "r_rep = draws[\"r_rep\"].to_numpy()\n",
    "\n",
    "def ci(x, a=0.05):\n",
    "    lo, hi = np.quantile(x, [a/2, 1-a/2])\n",
    "    return lo, hi\n",
    "\n",
    "# Posterior theta plot\n",
    "tmean = np.mean(theta)\n",
    "tlo, thi = ci(theta)\n",
    "\n",
    "plt.figure()\n",
    "plt.hist(theta, bins=50, density=True)\n",
    "plt.axvline(tmean, linestyle=\"--\", linewidth=2)\n",
    "plt.axvline(tlo, linestyle=\":\"); \n",
    "plt.axvline(thi, linestyle=\":\")\n",
    "plt.axvline(0.5, linestyle=\"-.\", linewidth=1)\n",
    "plt.title(\"Posterior of θ (true head probability)\")\n",
    "plt.xlabel(\"θ\"); plt.ylabel(\"Density\")\n",
    "plt.tight_layout(); plt.show()\n",
    "\n",
    "# Discrete posterior predictive PMF\n",
    "vals, cnts = np.unique(r_rep, return_counts=True)\n",
    "pmf = cnts / cnts.sum()\n",
    "plt.figure()\n",
    "plt.bar(vals, pmf, width=1.0, align=\"center\", edgecolor=\"black\")\n",
    "plt.axvline(r, linestyle=\"--\", linewidth=2)  # observed r\n",
    "plt.title(\"Posterior predictive PMF of reported heads (discrete)\")\n",
    "plt.xlabel(\"r_rep (integer)\"); plt.ylabel(\"Posterior predictive probability\")\n",
    "plt.xlim(min(vals)-1, max(vals)+1)\n",
    "plt.tight_layout(); plt.show()\n"
   ]
  },
  {
   "cell_type": "markdown",
   "id": "28117567",
   "metadata": {},
   "source": [
    "## Bayes Factor and ROPE tests"
   ]
  },
  {
   "cell_type": "code",
   "execution_count": 14,
   "id": "466a8245",
   "metadata": {},
   "outputs": [
    {
     "name": "stdout",
     "output_type": "stream",
     "text": [
      "BF01 (fair over not-fair): 0.674\n",
      "BF10 (not-fair over fair): 1.483\n",
      "ROPE [0.48, 0.52]  P(in)=0.027,  P(<low)=0.035,  P(>high)=0.938\n",
      "ROPE [0.45, 0.55]  P(in)=0.068,  P(<low)=0.021,  P(>high)=0.911\n"
     ]
    }
   ],
   "source": [
    "\n",
    "import numpy as np\n",
    "import pandas as pd\n",
    "from scipy.special import logsumexp\n",
    "\n",
    "N, r = 250, 140\n",
    "y = 0.4\n",
    "alpha, beta = 10.0, 10.0\n",
    "theta0 = 0.5\n",
    "\n",
    "# Bayes factor BF01: H0 theta=0.5 vs H1 Beta(10,10)\n",
    "q0 = 0.5\n",
    "log_m0 = r * np.log(q0) + (N - r) * np.log(1 - q0)  # binomial coefficient cancels\n",
    "# Monte Carlo estimate of m1 under the Beta(10,10) prior\n",
    "rng = np.random.default_rng(123)\n",
    "M = 600_000\n",
    "theta_prior = rng.beta(alpha, beta, size=M)\n",
    "q_prior = y + (1 - 2*y) * theta_prior\n",
    "q_prior = np.clip(q_prior, 1e-12, 1-1e-12)\n",
    "loglik = r * np.log(q_prior) + (N - r) * np.log(1 - q_prior)\n",
    "log_m1 = logsumexp(loglik) - np.log(M)\n",
    "\n",
    "BF01 = np.exp(log_m0 - log_m1)\n",
    "BF10 = 1.0 / BF01\n",
    "\n",
    "print(f\"BF01 (fair over not-fair): {BF01:.3f}\")\n",
    "print(f\"BF10 (not-fair over fair): {BF10:.3f}\")\n",
    "\n",
    "# ROPE tests\n",
    "def rope_probs(samples, center=0.5, halfwidth=0.02):\n",
    "    lo, hi = max(0.0, center - halfwidth), min(1.0, center + halfwidth)\n",
    "    pin = np.mean((samples >= lo) & (samples <= hi))\n",
    "    pbelow = np.mean(samples < lo)\n",
    "    pabove = np.mean(samples > hi)\n",
    "    return lo, hi, pin, pbelow, pabove\n",
    "\n",
    "for hw in [0.02, 0.05]:\n",
    "    lo, hi, pin, pbelow, pabove = rope_probs(theta, center=0.5, halfwidth=hw)\n",
    "    print(f\"ROPE [{lo:.2f}, {hi:.2f}]  P(in)={pin:.3f},  P(<low)={pbelow:.3f},  P(>high)={pabove:.3f}\")\n"
   ]
  },
  {
   "cell_type": "markdown",
   "id": "fd575302",
   "metadata": {},
   "source": [
    "## Save posterior samples"
   ]
  },
  {
   "cell_type": "code",
   "execution_count": 15,
   "id": "c5e9fa87",
   "metadata": {},
   "outputs": [
    {
     "name": "stdout",
     "output_type": "stream",
     "text": [
      "Wrote posterior_theta_strong_prior.csv\n"
     ]
    }
   ],
   "source": [
    "\n",
    "import pandas as pd\n",
    "samples_path = \"posterior_theta_strong_prior.csv\"\n",
    "pd.DataFrame({\"theta\": theta}).to_csv(samples_path, index=False)\n",
    "print(\"Wrote\", samples_path)\n"
   ]
  }
 ],
 "metadata": {
  "kernelspec": {
   "display_name": "Python 3",
   "language": "python",
   "name": "python3"
  },
  "language_info": {
   "codemirror_mode": {
    "name": "ipython",
    "version": 3
   },
   "file_extension": ".py",
   "mimetype": "text/x-python",
   "name": "python",
   "nbconvert_exporter": "python",
   "pygments_lexer": "ipython3",
   "version": "3.12.10"
  }
 },
 "nbformat": 4,
 "nbformat_minor": 5
}
